{
 "cells": [
  {
   "cell_type": "markdown",
   "id": "da7e4656-9454-405a-9497-eccfc0522cf0",
   "metadata": {},
   "source": [
    "##Assignment 01"
   ]
  },
  {
   "cell_type": "raw",
   "id": "b8556d04-900d-47df-94df-b17392885eff",
   "metadata": {},
   "source": [
    "\n",
    "# Name: Sunny\n",
    "# place: BLR\n",
    "# year_of_birth: 1991\n",
    "# ---------------------------------------------------------------------------\n",
    "# TypeError                                 Traceback (most recent call last)\n",
    "# <ipython-input-77-6f0a8cb6799f> in <module>\n",
    "#       5 year_of_birth = input(\"year_of_birth: \")                                      we recived input in str type we can resolve this by converting the \n",
    "#       6 \n",
    "# ----> 7 age = 2022 - year_of_birth\n",
    "#       8 \n",
    "#       9 print(f\"\"\"\n",
    "\n",
    "# TypeError: unsupported operand type(s) for -: 'int' and 'str'\n",
    "\n",
    "\n",
    "---------------------------------------------------------------------------\n",
    "TypeError                                 Traceback (most recent call last)\n",
    "<ipython-input-125-78d1f071c089> in <module>\n",
    "      2   print(x+y)\n",
    "      3 \n",
    "----> 4 sum_of_values(22.2, 33, 444)\n",
    "\n",
    "TypeError: sum_of_values() takes 2 positional arguments but 3 were given\n"
   ]
  },
  {
   "cell_type": "code",
   "execution_count": 19,
   "id": "c028e3b1-4050-4f2a-a4f9-08bb96a8f410",
   "metadata": {},
   "outputs": [
    {
     "name": "stdin",
     "output_type": "stream",
     "text": [
      "Enter the variable A:  1\n",
      "Enter the variable B:  2\n",
      "Enter the basic operation(addition/subtraction/divison/multiplication) you like to perform :  addition\n"
     ]
    },
    {
     "name": "stdout",
     "output_type": "stream",
     "text": [
      "3\n"
     ]
    }
   ],
   "source": [
    "a= int(input(\"Enter the variable A: \"))\n",
    "b= int(input(\"Enter the variable B: \"))\n",
    "c= input(\"\"\"Enter the basic operation(addition/subtraction/divison/multiplication) you like to perform : \"\"\")\n",
    "def sum(a,b):\n",
    "    _C=a+b\n",
    "    return(_C)\n",
    "def sub(a,b):\n",
    "    _C=a-b\n",
    "    return(_C)\n",
    "def div(a,b):\n",
    "    _C=a/b\n",
    "    return(_C)\n",
    "def multi(a,b):\n",
    "    _C=a*b\n",
    "    return(_C)\n",
    "\n",
    "    \n",
    "if c==\"addition\":\n",
    "    print(sum(a,b))\n",
    "elif c==\"subtraction\":\n",
    "    print(sub(a,b))\n",
    "elif c==\"divison\":\n",
    "    print(div(a,b))\n",
    "else:\n",
    "    print(multi(a,b))\n",
    "        \n",
    "        "
   ]
  },
  {
   "cell_type": "code",
   "execution_count": 4,
   "id": "2c0bb3c2-1b74-4805-aa57-04ec0d2aa835",
   "metadata": {},
   "outputs": [],
   "source": [
    "a=10\n",
    "b=1\n",
    "def sum(a,b):\n",
    "    _c=a+b\n",
    "    return(print(_c))\n",
    "def sub(a,b):\n",
    "    _c=a-b\n",
    "    return(print(_c))"
   ]
  },
  {
   "cell_type": "code",
   "execution_count": 5,
   "id": "1106f762-4fae-4d7a-8ad1-4142287a164a",
   "metadata": {},
   "outputs": [
    {
     "name": "stdout",
     "output_type": "stream",
     "text": [
      "9\n"
     ]
    }
   ],
   "source": [
    "sub(a,b)"
   ]
  },
  {
   "cell_type": "code",
   "execution_count": 26,
   "id": "6b677503-b5fb-47ad-99bb-5e19c629ec73",
   "metadata": {},
   "outputs": [
    {
     "name": "stdin",
     "output_type": "stream",
     "text": [
      "Enter the variable A:  10\n",
      "Enter the variable B:  20\n",
      "Enter the basic operation(addition/subtraction/divison/multiplication/square) you like to perform :  square\n"
     ]
    },
    {
     "name": "stdout",
     "output_type": "stream",
     "text": [
      "(100, 400)\n"
     ]
    }
   ],
   "source": [
    "a= int(input(\"Enter the variable A: \"))\n",
    "b= int(input(\"Enter the variable B: \"))\n",
    "c= input(\"\"\"Enter the basic operation(addition/subtraction/divison/multiplication/square) you like to perform : \"\"\")\n",
    "def sum(a,b):\n",
    "    _C=a+b\n",
    "    return(_C)\n",
    "def sub(a,b):\n",
    "    _C=a-b\n",
    "    return(_C)\n",
    "def div(a,b):\n",
    "    _C=a/b\n",
    "    return(_C)\n",
    "def multi(a,b):\n",
    "    _C=a*b\n",
    "    return(_C)\n",
    "def square(a,b):\n",
    "    _C=a**2\n",
    "    _C1=b**2\n",
    "    return(_C,_C1)\n",
    "    \n",
    "if c==\"addition\":\n",
    "    print(sum(a,b))\n",
    "elif c==\"subtraction\":\n",
    "    print(sub(a,b))\n",
    "elif c==\"divison\":\n",
    "    print(div(a,b))\n",
    "elif c==\"multiplication\":\n",
    "    print(multi(a,b))\n",
    "else:\n",
    "    print(square(a,b))"
   ]
  },
  {
   "cell_type": "code",
   "execution_count": 22,
   "id": "e4de280f-cca3-4c06-8937-1d08cd598101",
   "metadata": {},
   "outputs": [
    {
     "name": "stdout",
     "output_type": "stream",
     "text": [
      "(100, 400)\n"
     ]
    }
   ],
   "source": [
    "a=10\n",
    "b=20\n",
    "def square(a,b):\n",
    "    _C=a**2\n",
    "    _C1=b**2\n",
    "    return(_C,_C1)\n",
    "print(square(a,b))"
   ]
  },
  {
   "cell_type": "code",
   "execution_count": 32,
   "id": "da10e878-4091-40ee-9dd1-22223b9e20b9",
   "metadata": {},
   "outputs": [
    {
     "name": "stdin",
     "output_type": "stream",
     "text": [
      "enter your first name:  sam\n",
      "enter your last name:  dude\n"
     ]
    },
    {
     "name": "stdout",
     "output_type": "stream",
     "text": [
      " dude.sam@gmail.com\n"
     ]
    }
   ],
   "source": [
    "##Create email ids with the user inputs. in the following format - lastname.firstname@gmail.com\n",
    "Fname= input(\"enter your first name: \")\n",
    "Lname= input(\"enter your last name: \")\n",
    "print(f\" {Lname}.{Fname}@gmail.com\")\n"
   ]
  },
  {
   "cell_type": "code",
   "execution_count": 35,
   "id": "a6c9c6b1-0116-4373-aa72-774c335c8bcc",
   "metadata": {},
   "outputs": [
    {
     "name": "stdin",
     "output_type": "stream",
     "text": [
      "enter your first name:  sam\n",
      "enter your address:  broklyn 99\n",
      "enter your daily income:  600\n"
     ]
    },
    {
     "name": "stdout",
     "output_type": "stream",
     "text": [
      "\n",
      "    Hi I'm sam\n",
      "    my address is broklyn 99\n",
      "    I earn 600$ daily.\n",
      "    \n"
     ]
    }
   ],
   "source": [
    "##Try to print the following lines -\n",
    "## Hi I'm Sunny\n",
    "## My address is 22\\3\n",
    "## I earn 20$ daily.\n",
    "Fname= input(\"enter your first name: \")\n",
    "adrs= input(\"enter your address: \")\n",
    "incm= input (\"enter your daily income: \")\n",
    "print(f\"\"\"\n",
    "    Hi I'm {Fname}\n",
    "    my address is {adrs}\n",
    "    I earn {incm}$ daily.\n",
    "    \"\"\"\n",
    "      )\n",
    "\n"
   ]
  },
  {
   "cell_type": "code",
   "execution_count": 36,
   "id": "b52d0dba-d815-4dbf-b115-df94dcbc1638",
   "metadata": {},
   "outputs": [
    {
     "name": "stdin",
     "output_type": "stream",
     "text": [
      "enter your first name:  sam\n",
      "enter your last name:  lowasky\n",
      "enter your address:  broklyn 99\n",
      "enter your DOB:  20/02/2002\n"
     ]
    },
    {
     "name": "stdout",
     "output_type": "stream",
     "text": [
      "\n",
      "      name:sam lowasky\n",
      "      adderess:broklyn 99\n",
      "      date of birth: 20/02/2002\n",
      "      Your email: lowasky.sam@school.com\n"
     ]
    }
   ],
   "source": [
    "##Take user input (name, address, date of birth etc) to fill a form for your college and print their email IDs\n",
    "Fname= input(\"enter your first name: \")\n",
    "Lname= input(\"enter your last name: \")\n",
    "adrs= input(\"enter your address: \")\n",
    "dob= input (\"enter your DOB: \")\n",
    "\n",
    "print(f\"\"\"\n",
    "      name:{Fname} {Lname}\n",
    "      adderess:{adrs}\n",
    "      date of birth: {dob}\n",
    "      Your email: {Lname}.{Fname}@school.com\"\"\")\n",
    "\n"
   ]
  },
  {
   "cell_type": "code",
   "execution_count": 39,
   "id": "a7119763-29bb-4a2f-93ae-fe5b3173c22c",
   "metadata": {},
   "outputs": [
    {
     "name": "stdout",
     "output_type": "stream",
     "text": [
      "\n",
      "Here is a list of the Python keywords.  Enter any keyword to get more help.\n",
      "\n",
      "False               break               for                 not\n",
      "None                class               from                or\n",
      "True                continue            global              pass\n",
      "__peg_parser__      def                 if                  raise\n",
      "and                 del                 import              return\n",
      "as                  elif                in                  try\n",
      "assert              else                is                  while\n",
      "async               except              lambda              with\n",
      "await               finally             nonlocal            yield\n",
      "\n"
     ]
    }
   ],
   "source": [
    "help(\"keywords\")"
   ]
  },
  {
   "cell_type": "code",
   "execution_count": 44,
   "id": "5bf6b6eb-773e-436d-9e4c-2647a5f8ab29",
   "metadata": {},
   "outputs": [
    {
     "name": "stdout",
     "output_type": "stream",
     "text": [
      "22\n"
     ]
    }
   ],
   "source": [
    "a=\"22.22\"\n",
    "type(a)\n",
    "print(int(float(a)))   #I am not be able to convert this directly to int is there any way to convert it to int from float of string? \n",
    "                        #if possssible let me know in feedback"
   ]
  },
  {
   "cell_type": "code",
   "execution_count": 47,
   "id": "162ff8ae-4602-4486-9b2a-8313c99b570c",
   "metadata": {},
   "outputs": [
    {
     "data": {
      "text/plain": [
       "(20+0j)"
      ]
     },
     "execution_count": 47,
     "metadata": {},
     "output_type": "execute_result"
    }
   ],
   "source": [
    "a=\"20\"\n",
    "complex(a)"
   ]
  }
 ],
 "metadata": {
  "kernelspec": {
   "display_name": "Python 3 (ipykernel)",
   "language": "python",
   "name": "python3"
  },
  "language_info": {
   "codemirror_mode": {
    "name": "ipython",
    "version": 3
   },
   "file_extension": ".py",
   "mimetype": "text/x-python",
   "name": "python",
   "nbconvert_exporter": "python",
   "pygments_lexer": "ipython3",
   "version": "3.9.12"
  }
 },
 "nbformat": 4,
 "nbformat_minor": 5
}
